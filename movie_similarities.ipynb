{
 "cells": [
  {
   "cell_type": "code",
   "execution_count": 1,
   "metadata": {},
   "outputs": [],
   "source": [
    "import pandas as pd\n",
    "import numpy as np\n",
    "from sklearn.metrics.pairwise import cosine_similarity"
   ]
  },
  {
   "cell_type": "code",
   "execution_count": 112,
   "metadata": {},
   "outputs": [],
   "source": [
    "movie_genre = pd.read_csv(\"ProcessedData/movie_genre.csv\")\n",
    "indexedMovies = pd.read_csv(\"ProcessedData/indexedMovies.csv\")"
   ]
  },
  {
   "cell_type": "code",
   "execution_count": 125,
   "metadata": {},
   "outputs": [],
   "source": [
    "##Getting index based on titles of the movie\n",
    "def get_index(title):\n",
    "    return indexedMovies.loc[indexedMovies['Title']==title].values.tolist()[0][0]"
   ]
  },
  {
   "cell_type": "code",
   "execution_count": 113,
   "metadata": {},
   "outputs": [],
   "source": [
    "##Getting Titles based on the indexes from the suggestions \n",
    "\n",
    "def get_title(index):\n",
    "    row = enumerated[index]\n",
    "    returnVal = []\n",
    "    print(\"Given Movie\", indexedMovies.loc[indexedMovies['MovieId'] == index+1].values.tolist()[0])\n",
    "    for movies in row:\n",
    "        returnVal.append(indexedMovies.loc[indexedMovies['MovieId'] == movies[0]+1].values.tolist()[0])\n",
    "    return (returnVal)         "
   ]
  },
  {
   "cell_type": "markdown",
   "metadata": {},
   "source": [
    "# Finding Cosine Similarity between movies"
   ]
  },
  {
   "cell_type": "code",
   "execution_count": 110,
   "metadata": {},
   "outputs": [],
   "source": [
    "columnValues = movie_genre.values\n",
    "cs = cosine_similarity(columnValues)\n",
    "cs"
   ]
  },
  {
   "cell_type": "code",
   "execution_count": 116,
   "metadata": {},
   "outputs": [],
   "source": [
    "enumerated = []\n",
    "\n",
    "for index in cs:\n",
    "    row = list(enumerate(index))\n",
    "    row.sort(key = lambda x: -x[1])\n",
    "    row = list(filter(lambda x: x[1]>0 , row))[1:6]\n",
    "    enumerated.append(row)\n",
    "\n",
    "enumerated = np.array(enumerated)"
   ]
  },
  {
   "cell_type": "markdown",
   "metadata": {},
   "source": [
    "# Testing"
   ]
  },
  {
   "cell_type": "code",
   "execution_count": 118,
   "metadata": {},
   "outputs": [
    {
     "name": "stdout",
     "output_type": "stream",
     "text": [
      "Given Movie [1, 'Toy Story (1995)']\n",
      "[422, 'Aladdin and the King of Thieves (1996)']\n",
      "[95, 'Aladdin (1992)']\n",
      "[1219, 'Goofy Movie, A (1995)']\n",
      "[63, 'Santa Clause, The (1994)']\n",
      "[94, 'Home Alone (1990)']\n"
     ]
    }
   ],
   "source": [
    "suggestions = get_title(0)\n",
    "for movies in suggestions:\n",
    "    print(movies)"
   ]
  },
  {
   "cell_type": "code",
   "execution_count": 126,
   "metadata": {},
   "outputs": [
    {
     "data": {
      "text/plain": [
       "422"
      ]
     },
     "execution_count": 126,
     "metadata": {},
     "output_type": "execute_result"
    }
   ],
   "source": [
    "get_index(\"Aladdin and the King of Thieves (1996)\")"
   ]
  },
  {
   "cell_type": "code",
   "execution_count": null,
   "metadata": {},
   "outputs": [],
   "source": []
  }
 ],
 "metadata": {
  "kernelspec": {
   "display_name": "Python 3",
   "language": "python",
   "name": "python3"
  },
  "language_info": {
   "codemirror_mode": {
    "name": "ipython",
    "version": 3
   },
   "file_extension": ".py",
   "mimetype": "text/x-python",
   "name": "python",
   "nbconvert_exporter": "python",
   "pygments_lexer": "ipython3",
   "version": "3.7.6"
  }
 },
 "nbformat": 4,
 "nbformat_minor": 4
}
