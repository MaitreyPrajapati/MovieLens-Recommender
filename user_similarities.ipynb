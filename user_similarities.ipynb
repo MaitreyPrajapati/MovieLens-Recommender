{
 "cells": [
  {
   "cell_type": "code",
   "execution_count": 33,
   "metadata": {},
   "outputs": [],
   "source": [
    "from sklearn.metrics.pairwise import euclidean_distances\n",
    "from sklearn.metrics.pairwise import cosine_similarity\n",
    "from sklearn.feature_extraction.text import CountVectorizer\n",
    "import pandas as pd\n",
    "import numpy as np\n",
    "from sklearn.preprocessing import normalize"
   ]
  },
  {
   "cell_type": "code",
   "execution_count": 10,
   "metadata": {},
   "outputs": [
    {
     "data": {
      "text/html": [
       "<div>\n",
       "<style scoped>\n",
       "    .dataframe tbody tr th:only-of-type {\n",
       "        vertical-align: middle;\n",
       "    }\n",
       "\n",
       "    .dataframe tbody tr th {\n",
       "        vertical-align: top;\n",
       "    }\n",
       "\n",
       "    .dataframe thead th {\n",
       "        text-align: right;\n",
       "    }\n",
       "</style>\n",
       "<table border=\"1\" class=\"dataframe\">\n",
       "  <thead>\n",
       "    <tr style=\"text-align: right;\">\n",
       "      <th></th>\n",
       "      <th>UserId</th>\n",
       "      <th>Age</th>\n",
       "      <th>Gender</th>\n",
       "      <th>Occupation</th>\n",
       "      <th>Zip</th>\n",
       "      <th>AgeOc</th>\n",
       "    </tr>\n",
       "  </thead>\n",
       "  <tbody>\n",
       "    <tr>\n",
       "      <th>0</th>\n",
       "      <td>1</td>\n",
       "      <td>24</td>\n",
       "      <td>M</td>\n",
       "      <td>technician</td>\n",
       "      <td>85711</td>\n",
       "      <td>24_technician</td>\n",
       "    </tr>\n",
       "    <tr>\n",
       "      <th>1</th>\n",
       "      <td>2</td>\n",
       "      <td>53</td>\n",
       "      <td>F</td>\n",
       "      <td>other</td>\n",
       "      <td>94043</td>\n",
       "      <td>53_other</td>\n",
       "    </tr>\n",
       "    <tr>\n",
       "      <th>2</th>\n",
       "      <td>3</td>\n",
       "      <td>23</td>\n",
       "      <td>M</td>\n",
       "      <td>writer</td>\n",
       "      <td>32067</td>\n",
       "      <td>23_writer</td>\n",
       "    </tr>\n",
       "    <tr>\n",
       "      <th>3</th>\n",
       "      <td>4</td>\n",
       "      <td>24</td>\n",
       "      <td>M</td>\n",
       "      <td>technician</td>\n",
       "      <td>43537</td>\n",
       "      <td>24_technician</td>\n",
       "    </tr>\n",
       "    <tr>\n",
       "      <th>4</th>\n",
       "      <td>5</td>\n",
       "      <td>33</td>\n",
       "      <td>F</td>\n",
       "      <td>other</td>\n",
       "      <td>15213</td>\n",
       "      <td>33_other</td>\n",
       "    </tr>\n",
       "  </tbody>\n",
       "</table>\n",
       "</div>"
      ],
      "text/plain": [
       "   UserId  Age Gender  Occupation    Zip          AgeOc\n",
       "0       1   24      M  technician  85711  24_technician\n",
       "1       2   53      F       other  94043       53_other\n",
       "2       3   23      M      writer  32067      23_writer\n",
       "3       4   24      M  technician  43537  24_technician\n",
       "4       5   33      F       other  15213       33_other"
      ]
     },
     "execution_count": 10,
     "metadata": {},
     "output_type": "execute_result"
    }
   ],
   "source": [
    "users = pd.read_csv('processedData/combinedUsers/combinedUsers.csv', names = ['UserId','Age','Gender','Occupation','Zip','AgeOc'])\n",
    "users.head(5)"
   ]
  },
  {
   "cell_type": "code",
   "execution_count": 41,
   "metadata": {},
   "outputs": [],
   "source": [
    "def get_user_index_by_user_id(user_id):\n",
    "    return int(user_id-1)"
   ]
  },
  {
   "cell_type": "code",
   "execution_count": 39,
   "metadata": {},
   "outputs": [],
   "source": [
    "def get_user_suggestions_by_user_id(user_id):\n",
    "    userIndex = get_user_index_by_user_id(user_id)\n",
    "    suggestion_index = updated_matrix[userIndex]\n",
    "    print(suggestion_index)\n",
    "    \n",
    "    "
   ]
  },
  {
   "cell_type": "code",
   "execution_count": 42,
   "metadata": {},
   "outputs": [
    {
     "name": "stdout",
     "output_type": "stream",
     "text": [
      "[[  3.   2.]\n",
      " [455.   2.]\n",
      " [716.   2.]\n",
      " [831.   2.]\n",
      " [888.   2.]]\n"
     ]
    }
   ],
   "source": [
    "get_user_suggestions_by_user_id(1)"
   ]
  },
  {
   "cell_type": "code",
   "execution_count": null,
   "metadata": {},
   "outputs": [],
   "source": []
  },
  {
   "cell_type": "code",
   "execution_count": 121,
   "metadata": {},
   "outputs": [
    {
     "data": {
      "text/plain": [
       "UserId    53\n",
       "Name: 2, dtype: object"
      ]
     },
     "execution_count": 121,
     "metadata": {},
     "output_type": "execute_result"
    }
   ],
   "source": []
  },
  {
   "cell_type": "markdown",
   "metadata": {},
   "source": [
    "# Formatting Age-Occupation for cosine_sim\n"
   ]
  },
  {
   "cell_type": "code",
   "execution_count": 226,
   "metadata": {},
   "outputs": [],
   "source": []
  },
  {
   "cell_type": "code",
   "execution_count": 28,
   "metadata": {},
   "outputs": [
    {
     "data": {
      "text/plain": [
       "array([[0.6  , 0.426, 0.594, ..., 0.576, 0.456, 0.588],\n",
       "       [0.426, 0.6  , 0.42 , ..., 0.402, 0.57 , 0.414],\n",
       "       [0.594, 0.42 , 0.6  , ..., 0.582, 0.45 , 0.594],\n",
       "       ...,\n",
       "       [0.576, 0.402, 0.582, ..., 0.6  , 0.432, 0.588],\n",
       "       [0.456, 0.57 , 0.45 , ..., 0.432, 0.6  , 0.444],\n",
       "       [0.588, 0.414, 0.594, ..., 0.588, 0.444, 0.6  ]])"
      ]
     },
     "execution_count": 28,
     "metadata": {},
     "output_type": "execute_result"
    }
   ],
   "source": [
    "cv = CountVectorizer()\n",
    "\n",
    "age_count_matrix = 1-euclidean_distances(users['Age'].values.reshape(-1,1))*0.01\n",
    "age_count_matrix*0.6"
   ]
  },
  {
   "cell_type": "code",
   "execution_count": 30,
   "metadata": {},
   "outputs": [
    {
     "data": {
      "text/plain": [
       "array([[0.4, 0. , 0. , ..., 0. , 0. , 0. ],\n",
       "       [0. , 0.4, 0. , ..., 0. , 0. , 0. ],\n",
       "       [0. , 0. , 0.4, ..., 0. , 0. , 0. ],\n",
       "       ...,\n",
       "       [0. , 0. , 0. , ..., 0.4, 0. , 0.4],\n",
       "       [0. , 0. , 0. , ..., 0. , 0.4, 0. ],\n",
       "       [0. , 0. , 0. , ..., 0.4, 0. , 0.4]])"
      ]
     },
     "execution_count": 30,
     "metadata": {},
     "output_type": "execute_result"
    }
   ],
   "source": [
    "occupation_count_matrix = cv.fit_transform(users['Occupation'])\n",
    "# count_matrix.shape\n",
    "ocs = cosine_similarity(occupation_count_matrix)\n",
    "ocs*0.4"
   ]
  },
  {
   "cell_type": "code",
   "execution_count": 34,
   "metadata": {},
   "outputs": [],
   "source": [
    "age_occ_matrix = np.add(ocs,age_count_matrix)"
   ]
  },
  {
   "cell_type": "code",
   "execution_count": null,
   "metadata": {},
   "outputs": [],
   "source": []
  },
  {
   "cell_type": "code",
   "execution_count": 36,
   "metadata": {},
   "outputs": [],
   "source": [
    "updated_matrix = []\n",
    "for rows in age_occ_matrix:\n",
    "    row = list(enumerate(rows))\n",
    "    row.sort(key= lambda x: -x[1])\n",
    "    row = sorted(row,key=lambda x: -x[1])[1:6]\n",
    "    updated_matrix.append(row)\n",
    "updated_matrix = np.array(updated_matrix)"
   ]
  },
  {
   "cell_type": "code",
   "execution_count": 37,
   "metadata": {},
   "outputs": [
    {
     "data": {
      "text/plain": [
       "array([[[  3.  ,   2.  ],\n",
       "        [455.  ,   2.  ],\n",
       "        [716.  ,   2.  ],\n",
       "        [831.  ,   2.  ],\n",
       "        [888.  ,   2.  ]],\n",
       "\n",
       "       [[168.  ,   1.99],\n",
       "        [135.  ,   1.98],\n",
       "        [359.  ,   1.98],\n",
       "        [488.  ,   1.98],\n",
       "        [695.  ,   1.98]],\n",
       "\n",
       "       [[292.  ,   1.99],\n",
       "        [800.  ,   1.99],\n",
       "        [ 21.  ,   1.98],\n",
       "        [ 49.  ,   1.98],\n",
       "        [444.  ,   1.98]],\n",
       "\n",
       "       ...,\n",
       "\n",
       "       [[ 98.  ,   2.  ],\n",
       "        [116.  ,   2.  ],\n",
       "        [138.  ,   2.  ],\n",
       "        [273.  ,   2.  ],\n",
       "        [313.  ,   2.  ]],\n",
       "\n",
       "       [[941.  ,   2.  ],\n",
       "        [ 87.  ,   1.99],\n",
       "        [882.  ,   1.99],\n",
       "        [610.  ,   1.98],\n",
       "        [700.  ,   1.97]],\n",
       "\n",
       "       [[303.  ,   2.  ],\n",
       "        [326.  ,   2.  ],\n",
       "        [358.  ,   2.  ],\n",
       "        [360.  ,   2.  ],\n",
       "        [376.  ,   2.  ]]])"
      ]
     },
     "execution_count": 37,
     "metadata": {},
     "output_type": "execute_result"
    }
   ],
   "source": [
    "updated_matrix"
   ]
  },
  {
   "cell_type": "code",
   "execution_count": null,
   "metadata": {},
   "outputs": [],
   "source": []
  },
  {
   "cell_type": "code",
   "execution_count": null,
   "metadata": {},
   "outputs": [],
   "source": []
  },
  {
   "cell_type": "code",
   "execution_count": null,
   "metadata": {},
   "outputs": [],
   "source": []
  }
 ],
 "metadata": {
  "kernelspec": {
   "display_name": "Python 3",
   "language": "python",
   "name": "python3"
  },
  "language_info": {
   "codemirror_mode": {
    "name": "ipython",
    "version": 3
   },
   "file_extension": ".py",
   "mimetype": "text/x-python",
   "name": "python",
   "nbconvert_exporter": "python",
   "pygments_lexer": "ipython3",
   "version": "3.7.6"
  }
 },
 "nbformat": 4,
 "nbformat_minor": 4
}
