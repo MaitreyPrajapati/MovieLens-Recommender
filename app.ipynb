{
 "cells": [
  {
   "cell_type": "code",
   "execution_count": 291,
   "metadata": {},
   "outputs": [],
   "source": [
    "import pandas as pd\n",
    "import numpy as np\n",
    "import os\n",
    "from sklearn.metrics.pairwise import cosine_similarity\n",
    "from sklearn.metrics.pairwise import euclidean_distances\n",
    "from sklearn.feature_extraction.text import CountVectorizer\n",
    "from sklearn.preprocessing import normalize\n",
    "from pyspark import SparkContext\n",
    "from pyspark.sql import SQLContext\n"
   ]
  },
  {
   "cell_type": "code",
   "execution_count": 292,
   "metadata": {},
   "outputs": [],
   "source": [
    "sc = sc = SparkContext.getOrCreate()\n",
    "sqlContext = SQLContext(sc)"
   ]
  },
  {
   "cell_type": "markdown",
   "metadata": {},
   "source": [
    "# Data Preprocessing"
   ]
  },
  {
   "cell_type": "markdown",
   "metadata": {},
   "source": [
    "## Movie"
   ]
  },
  {
   "cell_type": "code",
   "execution_count": 293,
   "metadata": {},
   "outputs": [],
   "source": [
    "genre = pd.read_csv('Data/u.genre', sep = \"|\")\n",
    "genre_list = list(pd.Series(genre['unknown']))\n"
   ]
  },
  {
   "cell_type": "code",
   "execution_count": 294,
   "metadata": {},
   "outputs": [],
   "source": [
    "movieInfo = pd.read_csv('Data/u.item', sep = \"|\", encoding = \"iso-8859-1\", names=['MovieId','Title','Date','RealeseDate', 'VideoRDate','IMDB']+genre_list)\n",
    "requiredInfo = movieInfo.drop(['Date', 'RealeseDate','VideoRDate','IMDB'], axis =1)\n"
   ]
  },
  {
   "cell_type": "code",
   "execution_count": 295,
   "metadata": {},
   "outputs": [],
   "source": [
    "indexedMovies = requiredInfo.drop(genre_list, axis=1)\n"
   ]
  },
  {
   "cell_type": "code",
   "execution_count": 296,
   "metadata": {},
   "outputs": [],
   "source": [
    "columnPurpose = requiredInfo.drop(['MovieId','Title'],axis = 1)"
   ]
  },
  {
   "cell_type": "code",
   "execution_count": 297,
   "metadata": {},
   "outputs": [],
   "source": [
    "requiredInfo.to_csv(\"ProcessedData/requiredInfo.csv\", index=False)\n",
    "columnPurpose.to_csv(\"ProcessedData/movie_genre.csv\", index=False)\n",
    "indexedMovies.to_csv(\"ProcessedData/movieId_movies.csv\", index=False)"
   ]
  },
  {
   "cell_type": "markdown",
   "metadata": {},
   "source": [
    "## User-Ratings"
   ]
  },
  {
   "cell_type": "code",
   "execution_count": 298,
   "metadata": {},
   "outputs": [],
   "source": [
    "def movie_rating_combiner(row):\n",
    "    user, movie, rating, date = row.split(\"\\t\")\n",
    "    return((user,[\"%s-%s\" %(movie,rating)]))\n",
    "\n",
    "def sortMoviesByRatings(row):\n",
    "    movies = row[1]\n",
    "    movies.sort(key = lambda x: -int(x[-1]))\n",
    "    return (row[0],\" \".join(movies[:3]))"
   ]
  },
  {
   "cell_type": "code",
   "execution_count": 299,
   "metadata": {},
   "outputs": [],
   "source": [
    "ratings = sc.textFile('Data/u.data').map(movie_rating_combiner)\n",
    "ratings = ratings.reduceByKey(lambda x,y: x+y)\n"
   ]
  },
  {
   "cell_type": "code",
   "execution_count": 300,
   "metadata": {},
   "outputs": [],
   "source": [
    "ratings = ratings.map(sortMoviesByRatings)"
   ]
  },
  {
   "cell_type": "code",
   "execution_count": 301,
   "metadata": {},
   "outputs": [
    {
     "data": {
      "text/plain": [
       "0"
      ]
     },
     "execution_count": 301,
     "metadata": {},
     "output_type": "execute_result"
    }
   ],
   "source": [
    "combinedratings = sqlContext.createDataFrame(ratings)\n",
    "combinedratings.createOrReplaceTempView(\"ratings\")\n",
    "\n",
    "combinedratings.coalesce(1).write.csv('ProcessedData/combinedRatings/')\n",
    "os.system('mv ./ProcessedData/combinedRatings/*.csv ./ProcessedData/combinedRatings/combinedRatings.csv')"
   ]
  },
  {
   "cell_type": "markdown",
   "metadata": {},
   "source": [
    "## Getting the average rating of the movie"
   ]
  },
  {
   "cell_type": "code",
   "execution_count": 302,
   "metadata": {},
   "outputs": [],
   "source": [
    "def rating_tab_sep(row):\n",
    "    row = row.split(\"\\t\")\n",
    "    return (row[1],(row[2],1))\n",
    "\n",
    "def rating_sum(rating_row_1,rating_row_2):\n",
    "    return(int(rating_row_1[0])+int(rating_row_2[0]),rating_row_1[1]+rating_row_2[1])\n",
    "\n",
    "def find_avg(row):\n",
    "    total_sum = int(row[1][0])\n",
    "    no_of_ratings = int(row[1][1])\n",
    "    return(row[0],\"%.1f\"%(total_sum/no_of_ratings))"
   ]
  },
  {
   "cell_type": "code",
   "execution_count": 303,
   "metadata": {},
   "outputs": [],
   "source": [
    "data_copy = sc.textFile('Data/u.data').map(rating_tab_sep)\n",
    "data_copy = data_copy.reduceByKey(rating_sum)\n",
    "avg_rating = data_copy.map(find_avg)"
   ]
  },
  {
   "cell_type": "code",
   "execution_count": 304,
   "metadata": {},
   "outputs": [
    {
     "data": {
      "text/plain": [
       "0"
      ]
     },
     "execution_count": 304,
     "metadata": {},
     "output_type": "execute_result"
    }
   ],
   "source": [
    "avg_rating = sqlContext.createDataFrame(avg_rating)\n",
    "avg_rating.createOrReplaceTempView(\"avg_rating\")\n",
    "\n",
    "avg_rating.coalesce(1).write.csv('ProcessedData/avg_rating/')\n",
    "os.system('mv ./ProcessedData/avg_rating/*.csv ./ProcessedData/avg_rating/avg_rating.csv')"
   ]
  },
  {
   "cell_type": "markdown",
   "metadata": {},
   "source": [
    "# User Section"
   ]
  },
  {
   "cell_type": "code",
   "execution_count": 305,
   "metadata": {},
   "outputs": [],
   "source": [
    "users = pd.read_csv('Data/u.user',sep =\"|\", names = ['UserId','Age','Gender','Occupation','Zip'])"
   ]
  },
  {
   "cell_type": "code",
   "execution_count": 306,
   "metadata": {},
   "outputs": [],
   "source": [
    "def get_user_index_by_user_id(user_id):\n",
    "    return int(user_id-1)\n",
    "\n",
    "def get_user_suggestions_by_user_id(user_id):\n",
    "    userIndex = get_user_index_by_user_id(user_id)\n",
    "    suggestion_index = age_occ_suggestion_matrix[userIndex]\n",
    "    return(suggestion_index)\n",
    "    "
   ]
  },
  {
   "cell_type": "code",
   "execution_count": 307,
   "metadata": {},
   "outputs": [],
   "source": [
    "cv = CountVectorizer()\n",
    "\n",
    "age_count_matrix = 1-euclidean_distances(users['Age'].values.reshape(-1,1))*0.01\n",
    "age_count_matrix*=0.6\n",
    "\n",
    "occupation_count_matrix = cv.fit_transform(users['Occupation'])\n",
    "ocs = cosine_similarity(occupation_count_matrix)\n",
    "ocs*=0.4\n",
    "\n",
    "age_occ_matrix = np.add(ocs,age_count_matrix)\n",
    "\n",
    "age_occ_suggestion_matrix = []\n",
    "\n",
    "for rows in age_occ_matrix:\n",
    "    row = list(enumerate(rows))\n",
    "    row.sort(key= lambda x: -x[1])\n",
    "    row = sorted(row,key=lambda x: -x[1])[1:6]\n",
    "    age_occ_suggestion_matrix.append(row)\n",
    "age_occ_suggestion_matrix = np.array(age_occ_suggestion_matrix)"
   ]
  },
  {
   "cell_type": "markdown",
   "metadata": {},
   "source": [
    "# Movie Section"
   ]
  },
  {
   "cell_type": "code",
   "execution_count": 308,
   "metadata": {},
   "outputs": [],
   "source": [
    "movie_genre = pd.read_csv(\"ProcessedData/movie_genre.csv\")\n",
    "indexedMovies = pd.read_csv(\"ProcessedData/movieId_movies.csv\")\n"
   ]
  },
  {
   "cell_type": "code",
   "execution_count": 309,
   "metadata": {},
   "outputs": [],
   "source": [
    "##Getting index based on titles of the movie\n",
    "def get_movie_id(title):\n",
    "    return indexedMovies.loc[indexedMovies['Title']==title].values.tolist()[0][0]\n",
    "\n",
    "def get_movie_title(movieId):\n",
    "    return indexedMovies.loc[indexedMovies['MovieId'] == movieId].values.tolist()[0][1]\n",
    "\n",
    "##Getting suggestions by title name\n",
    "def get_suggestion_by_movie_title(title):\n",
    "    movie_index = get_movie_id(title)-1\n",
    "    return get_suggestion_by_movie_index(movie_index)\n",
    "##Getting suggestions by movie ID\n",
    "def get_suggestion_by_movie_id(movieId):\n",
    "    movieId = int(movieId)\n",
    "    return get_suggestion_by_movie_index(movieId-1)\n",
    "\n",
    "##Getting Titles based on the indexes from the suggestions \n",
    "def get_suggestion_by_movie_index(index):\n",
    "    row = enumerated[index]\n",
    "    returnVal = []\n",
    "    for movies in row:\n",
    "        returnVal.append(indexedMovies.loc[indexedMovies['MovieId'] == movies[0]+1].values.tolist()[0])\n",
    "    return (returnVal)    \n",
    "\n",
    "#Getting Average rating of a movie\n",
    "def get_avg_rating_by_movie_id(movieId):\n",
    "    avg_movie_rating = average_rating.loc[average_rating['MovieId'] == movieId, ['Avg_Rating']].values[0][0]\n",
    "    return int(avg_movie_rating)"
   ]
  },
  {
   "cell_type": "markdown",
   "metadata": {},
   "source": [
    "## User's top 3 rated movies"
   ]
  },
  {
   "cell_type": "code",
   "execution_count": 310,
   "metadata": {},
   "outputs": [],
   "source": [
    "average_rating = pd.read_csv('ProcessedData/avg_rating/avg_rating.csv', names = ['MovieId','Avg_Rating'])\n",
    "user_top_rated_movies = pd.read_csv('ProcessedData/combinedRatings/combinedRatings.csv', names = ['UserId','Top Three Rated Movies'])"
   ]
  },
  {
   "cell_type": "code",
   "execution_count": 311,
   "metadata": {},
   "outputs": [],
   "source": [
    "# Getting movie recommendation from the userId from user's top 3 ratings\n",
    "def get_movies_based_on_previous_rating(userId):\n",
    "    userRatings = user_top_rated_movies.loc[user_top_rated_movies['UserId'] == userId, 'Top Three Rated Movies'].tolist()[0]\n",
    "    movies = userRatings.split(' ')\n",
    "    returnList = []\n",
    "    for movie in movies:\n",
    "        movieId,ratings = movie.strip().split('-')\n",
    "        returnList+=get_suggestion_by_movie_id(movieId)\n",
    "    return returnList\n",
    "\n",
    "def get_movies_based_on_previous_rating_with_weight(userId):\n",
    "    suggested_movie_list = get_movies_based_on_previous_rating(userId)\n",
    "    previous_ratings_value = user_top_rated_movies.loc[user_top_rated_movies['UserId'] == userId, 'Top Three Rated Movies'].tolist()[0]\n",
    "    previous_movies = previous_ratings_value.split(' ')\n",
    "    \n",
    "    returnList = []\n",
    "    \n",
    "    for i in range(len(previous_movies)):\n",
    "        previous_movie, previous_movie_rating = previous_movies[i].split('-')\n",
    "        \n",
    "        for s_movie_index in range(i*5,(i*5)+5):\n",
    "            m_id = suggested_movie_list[s_movie_index][0]\n",
    "            m_id_avg_rating = get_avg_rating_by_movie_id(m_id)\n",
    "            returnList.append((m_id,((int(previous_movie_rating)*m_id_avg_rating)/5)*0.6))        \n",
    "    return returnList"
   ]
  },
  {
   "cell_type": "markdown",
   "metadata": {},
   "source": [
    "## Finding Cosine Similarities between movies"
   ]
  },
  {
   "cell_type": "code",
   "execution_count": 318,
   "metadata": {},
   "outputs": [],
   "source": [
    "columnValues = movie_genre.values\n",
    "cs = cosine_similarity(columnValues)"
   ]
  },
  {
   "cell_type": "code",
   "execution_count": 313,
   "metadata": {},
   "outputs": [],
   "source": [
    "## Suggestion list for each movie by their indexes\n",
    "enumerated = []\n",
    "\n",
    "for index in cs:\n",
    "    row = list(enumerate(index))\n",
    "    row.sort(key = lambda x: -x[1])\n",
    "    row = list(filter(lambda x: x[1]>0 , row))[1:6]\n",
    "    enumerated.append(row)\n",
    "\n",
    "enumerated = np.array(enumerated)"
   ]
  },
  {
   "cell_type": "markdown",
   "metadata": {},
   "source": [
    "# Getting suggestions based on the recommended users\n"
   ]
  },
  {
   "cell_type": "code",
   "execution_count": 314,
   "metadata": {},
   "outputs": [],
   "source": [
    "def movie_from_suggested_users(userId):\n",
    "    originalUserId = userId\n",
    "    suggestedUsers = get_user_suggestions_by_user_id(originalUserId)\n",
    "    suggested_movie_list = []\n",
    "    \n",
    "    for user in suggestedUsers:\n",
    "        su_Id = user[0]\n",
    "        su_weight = int(user[1])\n",
    "        \n",
    "        su_suggested_movies = user_top_rated_movies.loc[user_top_rated_movies['UserId'] == su_Id, ['Top Three Rated Movies']].values.tolist()[0][0]\n",
    "        for mRatings in su_suggested_movies.split(\" \"):\n",
    "            mov_id, mov_r = mRatings.split(\"-\")\n",
    "            mov_id = int(mov_id)\n",
    "            avg_movie_rating = get_avg_rating_by_movie_id(mov_id)\n",
    "            \n",
    "            suggested_movie_list.append((mov_id,(((int(mov_r)*su_weight*avg_movie_rating)/5)*0.4)))\n",
    "    suggested_movie_list.sort(key = lambda x : -x[1])\n",
    "    return (suggested_movie_list)"
   ]
  },
  {
   "cell_type": "markdown",
   "metadata": {},
   "source": [
    "# Get Recommendation"
   ]
  },
  {
   "cell_type": "code",
   "execution_count": 315,
   "metadata": {},
   "outputs": [],
   "source": [
    "def get_recommendation(userId):\n",
    "    movies_by_movies = get_movies_based_on_previous_rating_with_weight(userId)\n",
    "    movies_by_user = movie_from_suggested_users(userId)\n",
    "    \n",
    "    movie_id_list = movies_by_movies+movies_by_user\n",
    "    movie_id_list.sort(key = lambda x: -x[1])\n",
    "    \n",
    "    movie_name_list = []\n",
    "    for movie in movie_id_list:\n",
    "        \n",
    "        movie_id = movie[0]\n",
    "        movie_weight = movie[1]\n",
    "        \n",
    "        movie_name_list.append((get_movie_title(movie_id),movie_weight))\n",
    "        \n",
    "    return movie_name_list"
   ]
  },
  {
   "cell_type": "code",
   "execution_count": 319,
   "metadata": {},
   "outputs": [],
   "source": [
    "# get_recommendation(user_id)"
   ]
  },
  {
   "cell_type": "code",
   "execution_count": null,
   "metadata": {},
   "outputs": [],
   "source": []
  }
 ],
 "metadata": {
  "kernelspec": {
   "display_name": "Python 3",
   "language": "python",
   "name": "python3"
  },
  "language_info": {
   "codemirror_mode": {
    "name": "ipython",
    "version": 3
   },
   "file_extension": ".py",
   "mimetype": "text/x-python",
   "name": "python",
   "nbconvert_exporter": "python",
   "pygments_lexer": "ipython3",
   "version": "3.7.6"
  }
 },
 "nbformat": 4,
 "nbformat_minor": 4
}
