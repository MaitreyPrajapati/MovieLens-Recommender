{
 "cells": [
  {
   "cell_type": "code",
   "execution_count": 187,
   "metadata": {},
   "outputs": [],
   "source": [
    "import pandas as pd\n",
    "import numpy as np\n",
    "from sklearn.metrics.pairwise import cosine_similarity\n",
    "from sklearn.metrics.pairwise import euclidean_distances"
   ]
  },
  {
   "cell_type": "code",
   "execution_count": 112,
   "metadata": {},
   "outputs": [],
   "source": [
    "movie_genre = pd.read_csv(\"ProcessedData/movie_genre.csv\")\n",
    "indexedMovies = pd.read_csv(\"ProcessedData/indexedMovies.csv\")"
   ]
  },
  {
   "cell_type": "code",
   "execution_count": 138,
   "metadata": {},
   "outputs": [],
   "source": [
    "##Getting index based on titles of the movie\n",
    "def get_movie_id(title):\n",
    "    return indexedMovies.loc[indexedMovies['Title']==title].values.tolist()[0][0]"
   ]
  },
  {
   "cell_type": "code",
   "execution_count": 141,
   "metadata": {},
   "outputs": [],
   "source": [
    "##Getting suggestions by title name\n",
    "def get_suggestion_by_movie_title(title):\n",
    "    movie_index = get_movie_id(title)-1\n",
    "    return get_suggestion_by_movie_index(movie_index)"
   ]
  },
  {
   "cell_type": "code",
   "execution_count": 176,
   "metadata": {},
   "outputs": [],
   "source": [
    "def get_suggestion_by_movie_id(movieId):\n",
    "    movieId = int(movieId)\n",
    "    return get_suggestion_by_movie_index(movieId-1)"
   ]
  },
  {
   "cell_type": "code",
   "execution_count": 130,
   "metadata": {},
   "outputs": [],
   "source": [
    "##Getting Titles based on the indexes from the suggestions \n",
    "def get_suggestion_by_movie_index(index):\n",
    "    row = enumerated[index]\n",
    "    returnVal = []\n",
    "    print(\"Given Movie\", indexedMovies.loc[indexedMovies['MovieId'] == index+1].values.tolist()[0])\n",
    "    for movies in row:\n",
    "        returnVal.append(indexedMovies.loc[indexedMovies['MovieId'] == movies[0]+1].values.tolist()[0])\n",
    "    return (returnVal)         "
   ]
  },
  {
   "cell_type": "markdown",
   "metadata": {},
   "source": [
    "# User's top 3 rated movies"
   ]
  },
  {
   "cell_type": "code",
   "execution_count": 183,
   "metadata": {},
   "outputs": [],
   "source": [
    "def get_movies_based_on_previous_rating(userId):\n",
    "    userRatings = combinedRatings.loc[combinedRatings['UserId'] == userId, 'Ratings'].tolist()[0]\n",
    "    movies = userRatings.split(' ')\n",
    "    returnList = []\n",
    "    for movie in movies:\n",
    "        movieId,ratings = movie.strip().split('-')\n",
    "        returnList+=get_suggestion_by_movie_id(movieId)\n",
    "    return returnList"
   ]
  },
  {
   "cell_type": "code",
   "execution_count": 128,
   "metadata": {},
   "outputs": [
    {
     "data": {
      "text/html": [
       "<div>\n",
       "<style scoped>\n",
       "    .dataframe tbody tr th:only-of-type {\n",
       "        vertical-align: middle;\n",
       "    }\n",
       "\n",
       "    .dataframe tbody tr th {\n",
       "        vertical-align: top;\n",
       "    }\n",
       "\n",
       "    .dataframe thead th {\n",
       "        text-align: right;\n",
       "    }\n",
       "</style>\n",
       "<table border=\"1\" class=\"dataframe\">\n",
       "  <thead>\n",
       "    <tr style=\"text-align: right;\">\n",
       "      <th></th>\n",
       "      <th>UserId</th>\n",
       "      <th>Ratings</th>\n",
       "    </tr>\n",
       "  </thead>\n",
       "  <tbody>\n",
       "    <tr>\n",
       "      <th>0</th>\n",
       "      <td>22</td>\n",
       "      <td>128-5 258-5 510-5</td>\n",
       "    </tr>\n",
       "    <tr>\n",
       "      <th>1</th>\n",
       "      <td>244</td>\n",
       "      <td>154-5 89-5 652-5</td>\n",
       "    </tr>\n",
       "    <tr>\n",
       "      <th>2</th>\n",
       "      <td>115</td>\n",
       "      <td>8-5 127-5 234-5</td>\n",
       "    </tr>\n",
       "    <tr>\n",
       "      <th>3</th>\n",
       "      <td>305</td>\n",
       "      <td>427-5 483-5 50-5</td>\n",
       "    </tr>\n",
       "    <tr>\n",
       "      <th>4</th>\n",
       "      <td>286</td>\n",
       "      <td>1014-5 379-5 288-5</td>\n",
       "    </tr>\n",
       "  </tbody>\n",
       "</table>\n",
       "</div>"
      ],
      "text/plain": [
       "   UserId             Ratings\n",
       "0      22   128-5 258-5 510-5\n",
       "1     244    154-5 89-5 652-5\n",
       "2     115     8-5 127-5 234-5\n",
       "3     305    427-5 483-5 50-5\n",
       "4     286  1014-5 379-5 288-5"
      ]
     },
     "execution_count": 128,
     "metadata": {},
     "output_type": "execute_result"
    }
   ],
   "source": [
    "combinedRatings = pd.read_csv('processedData/combinedRatings/combinedRatings.csv', names = ['UserId','Ratings'])\n",
    "combinedRatings.head(5)"
   ]
  },
  {
   "cell_type": "code",
   "execution_count": 182,
   "metadata": {},
   "outputs": [
    {
     "name": "stdout",
     "output_type": "stream",
     "text": [
      "[[0. 1. 2.]\n",
      " [1. 0. 1.]\n",
      " [2. 1. 0.]]\n"
     ]
    }
   ],
   "source": [
    "a = [[1,0],[2,0],[3,0]]\n",
    "print(euclidean_distances(a))\n"
   ]
  },
  {
   "cell_type": "markdown",
   "metadata": {},
   "source": [
    "# Finding Cosine Similarity between movies"
   ]
  },
  {
   "cell_type": "code",
   "execution_count": 110,
   "metadata": {},
   "outputs": [],
   "source": [
    "columnValues = movie_genre.values\n",
    "cs = cosine_similarity(columnValues)\n",
    "cs"
   ]
  },
  {
   "cell_type": "code",
   "execution_count": 116,
   "metadata": {},
   "outputs": [],
   "source": [
    "## Suggestion list for each movie by their indexes\n",
    "enumerated = []\n",
    "\n",
    "for index in cs:\n",
    "    row = list(enumerate(index))\n",
    "    row.sort(key = lambda x: -x[1])\n",
    "    row = list(filter(lambda x: x[1]>0 , row))[1:6]\n",
    "    enumerated.append(row)\n",
    "\n",
    "enumerated = np.array(enumerated)"
   ]
  },
  {
   "cell_type": "markdown",
   "metadata": {},
   "source": [
    "# Get Suggestions"
   ]
  },
  {
   "cell_type": "code",
   "execution_count": 131,
   "metadata": {},
   "outputs": [
    {
     "name": "stdout",
     "output_type": "stream",
     "text": [
      "Given Movie [1, 'Toy Story (1995)']\n",
      "[422, 'Aladdin and the King of Thieves (1996)']\n",
      "[95, 'Aladdin (1992)']\n",
      "[1219, 'Goofy Movie, A (1995)']\n",
      "[63, 'Santa Clause, The (1994)']\n",
      "[94, 'Home Alone (1990)']\n"
     ]
    }
   ],
   "source": [
    "suggestions = get_suggestion_by_movie_index(0)\n",
    "for movies in suggestions:\n",
    "    print(movies)"
   ]
  },
  {
   "cell_type": "code",
   "execution_count": 139,
   "metadata": {},
   "outputs": [
    {
     "data": {
      "text/plain": [
       "422"
      ]
     },
     "execution_count": 139,
     "metadata": {},
     "output_type": "execute_result"
    }
   ],
   "source": [
    "get_movie_id(\"Aladdin and the King of Thieves (1996)\")"
   ]
  },
  {
   "cell_type": "code",
   "execution_count": 142,
   "metadata": {},
   "outputs": [
    {
     "name": "stdout",
     "output_type": "stream",
     "text": [
      "Given Movie [1, 'Toy Story (1995)']\n"
     ]
    },
    {
     "data": {
      "text/plain": [
       "[[422, 'Aladdin and the King of Thieves (1996)'],\n",
       " [95, 'Aladdin (1992)'],\n",
       " [1219, 'Goofy Movie, A (1995)'],\n",
       " [63, 'Santa Clause, The (1994)'],\n",
       " [94, 'Home Alone (1990)']]"
      ]
     },
     "execution_count": 142,
     "metadata": {},
     "output_type": "execute_result"
    }
   ],
   "source": [
    "get_suggestion_by_movie_title('Toy Story (1995)')"
   ]
  },
  {
   "cell_type": "code",
   "execution_count": 184,
   "metadata": {},
   "outputs": [
    {
     "name": "stdout",
     "output_type": "stream",
     "text": [
      "Given Movie [128, 'Supercop (1992)']\n",
      "Given Movie [258, 'Contact (1997)']\n",
      "Given Movie [510, 'Magnificent Seven, The (1954)']\n"
     ]
    },
    {
     "data": {
      "text/plain": [
       "[[79, 'Fugitive, The (1993)'],\n",
       " [128, 'Supercop (1992)'],\n",
       " [144, 'Die Hard (1988)'],\n",
       " [147, 'Long Kiss Goodnight, The (1996)'],\n",
       " [226, 'Die Hard 2 (1990)'],\n",
       " [258, 'Contact (1997)'],\n",
       " [429, 'Day the Earth Stood Still, The (1951)'],\n",
       " [1006, 'Until the End of the World (Bis ans Ende der Welt) (1991)'],\n",
       " [239, 'Sneakers (1992)'],\n",
       " [270, 'Gattaca (1997)'],\n",
       " [840, 'Last Man Standing (1996)'],\n",
       " [177, 'Good, The Bad and The Ugly, The (1966)'],\n",
       " [339, 'Mad City (1997)'],\n",
       " [686, 'Perfect World, A (1993)'],\n",
       " [808, 'Program, The (1993)']]"
      ]
     },
     "execution_count": 184,
     "metadata": {},
     "output_type": "execute_result"
    }
   ],
   "source": [
    "get_movies_based_on_previous_rating(22)"
   ]
  },
  {
   "cell_type": "code",
   "execution_count": null,
   "metadata": {},
   "outputs": [],
   "source": []
  }
 ],
 "metadata": {
  "kernelspec": {
   "display_name": "Python 3",
   "language": "python",
   "name": "python3"
  },
  "language_info": {
   "codemirror_mode": {
    "name": "ipython",
    "version": 3
   },
   "file_extension": ".py",
   "mimetype": "text/x-python",
   "name": "python",
   "nbconvert_exporter": "python",
   "pygments_lexer": "ipython3",
   "version": "3.7.6"
  }
 },
 "nbformat": 4,
 "nbformat_minor": 4
}
